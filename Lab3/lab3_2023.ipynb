{
  "cells": [
    {
      "cell_type": "markdown",
      "metadata": {
        "id": "ZUWm0aQb9BC8"
      },
      "source": [
        "---\n",
        "# <font color=\"#CA3532\">Deep Learning Fundamentals and Basic Tools (2023/2024) - Lab Assignment 3</font>\n",
        "---\n",
        "\n",
        "Last updated on 2023-10-11\n",
        "\n",
        "Please report any bugs to luis.lago@uam.es\n",
        "\n",
        "\n",
        "\n",
        "---"
      ]
    },
    {
      "cell_type": "markdown",
      "metadata": {
        "id": "EBpMcVbBTcd-"
      },
      "source": [
        "This third lab includes the following tasks:\n",
        "\n",
        "- The implementation of simple models using [PyTorch](https://pytorch.org/).\n",
        "\n",
        "- The implementation of a convolutional neural network for the [CIFAR-10](https://www.cs.toronto.edu/~kriz/cifar.html) problem, including hyperparameter optimization."
      ]
    },
    {
      "cell_type": "markdown",
      "metadata": {
        "id": "areLUgwp4ZhC"
      },
      "source": [
        "### <font color=\"#CA3532\">Clone the lab's github repo</font>\n",
        "\n",
        "The easiest way of having all the lab material available from *Colab* is to clone our github repository:"
      ]
    },
    {
      "cell_type": "code",
      "execution_count": 1,
      "metadata": {
        "colab": {
          "base_uri": "https://localhost:8080/"
        },
        "id": "WUhhu4QTzbDn",
        "outputId": "a27dc3f0-0e0e-4e7c-c9d9-7681c90457c5"
      },
      "outputs": [],
      "source": [
        "# !git clone https://github.com/luisferuam/DLFBT-LAB"
      ]
    },
    {
      "cell_type": "markdown",
      "metadata": {
        "id": "kd1GM-6uTBTE"
      },
      "source": [
        "### <font color=\"#CA3532\">Instructions</font>\n",
        "\n",
        "- The assignment must be done in pairs.\n",
        "\n",
        "- All the exercises are described in this notebook. You must code your solutions in the file ``dlfbt_lab3.py`` provided as part of the material. Just complete the sections in the code marked with ``TO-DO`` comments.\n",
        "\n",
        "- The results for exercise 3, including the hyperparameter search, must be included at the end of this notebook.\n",
        "\n",
        "- Create a zip file containing both the ``dlfbt_lab3.py`` and this notebook and upload it to the [course Moodle page](https://posgrado.uam.es/course/view.php?id=57185) before the due date.\n",
        "\n",
        "- **Due date:** Friday, 2023-10-27, 23:59."
      ]
    },
    {
      "cell_type": "markdown",
      "metadata": {
        "id": "0zPXQteNbA9N"
      },
      "source": [
        "### <font color=\"#CA3532\">Import the libraries</font>\n",
        "\n",
        "The following code cells import the required libraries."
      ]
    },
    {
      "cell_type": "code",
      "execution_count": 2,
      "metadata": {
        "id": "5qoR3iD7bLKF"
      },
      "outputs": [],
      "source": [
        "import numpy as np\n",
        "import matplotlib.pyplot as plt\n",
        "from mpl_toolkits import mplot3d\n",
        "import pickle\n",
        "\n",
        "from time import time\n",
        "import shutil"
      ]
    },
    {
      "cell_type": "code",
      "execution_count": 3,
      "metadata": {
        "id": "f1qAknm_nF70"
      },
      "outputs": [
        {
          "name": "stderr",
          "output_type": "stream",
          "text": [
            "2023-10-22 00:59:50.038937: E tensorflow/compiler/xla/stream_executor/cuda/cuda_dnn.cc:9342] Unable to register cuDNN factory: Attempting to register factory for plugin cuDNN when one has already been registered\n",
            "2023-10-22 00:59:50.038962: E tensorflow/compiler/xla/stream_executor/cuda/cuda_fft.cc:609] Unable to register cuFFT factory: Attempting to register factory for plugin cuFFT when one has already been registered\n",
            "2023-10-22 00:59:50.038978: E tensorflow/compiler/xla/stream_executor/cuda/cuda_blas.cc:1518] Unable to register cuBLAS factory: Attempting to register factory for plugin cuBLAS when one has already been registered\n",
            "2023-10-22 00:59:50.043270: I tensorflow/core/platform/cpu_feature_guard.cc:182] This TensorFlow binary is optimized to use available CPU instructions in performance-critical operations.\n",
            "To enable the following instructions: AVX2 FMA, in other operations, rebuild TensorFlow with the appropriate compiler flags.\n",
            "2023-10-22 00:59:50.582942: W tensorflow/compiler/tf2tensorrt/utils/py_utils.cc:38] TF-TRT Warning: Could not find TensorRT\n"
          ]
        }
      ],
      "source": [
        "import tensorflow as tf\n",
        "from tensorflow import keras"
      ]
    },
    {
      "cell_type": "code",
      "execution_count": 4,
      "metadata": {
        "id": "TZBohNN5nH7f"
      },
      "outputs": [],
      "source": [
        "import torch"
      ]
    },
    {
      "cell_type": "code",
      "execution_count": 5,
      "metadata": {
        "id": "QQ3mdiCYu8HZ"
      },
      "outputs": [],
      "source": [
        "import sys\n",
        "sys.path.append('DLFBT-LAB')\n",
        "import dlfbt"
      ]
    },
    {
      "cell_type": "markdown",
      "metadata": {
        "id": "4DRvswhK6nnj"
      },
      "source": [
        "### <font color=\"#CA3532\">Introduction to PyTorch</font>\n",
        "\n",
        "[PyTorch](https://pytorch.org/) is an open source machine learning framework that may be a good alternative to [TensorFlow](https://www.tensorflow.org/). It is usually the preferred option amongst the academic comunity because it offers more flexibility and hence it is easier to build custom models. However it lacks a high level layer like [Keras](https://keras.io/), so development could be a bit harder.\n",
        "\n",
        "In this first part of the lab you will be introduced to the PyTorch framework.\n",
        "\n",
        "Follow the introductory tutorial in the [PyTorch 60-Minute Blitz](https://pytorch.org/tutorials/beginner/deep_learning_60min_blitz.html) and then solve the exercises.\n"
      ]
    },
    {
      "cell_type": "markdown",
      "metadata": {
        "id": "EVGPz5tsD1iJ"
      },
      "source": [
        "### <font color=\"#CA3532\">Automatic differentiation with PyTorch</font>"
      ]
    },
    {
      "cell_type": "markdown",
      "metadata": {
        "id": "iQeDujFAEPGn"
      },
      "source": [
        "As you have seen in the tutorial, the flag ``requires_grad=True`` may be used when creating a tensor to indicate that we will compute gradients with respect to it:"
      ]
    },
    {
      "cell_type": "code",
      "execution_count": 6,
      "metadata": {
        "colab": {
          "base_uri": "https://localhost:8080/"
        },
        "id": "C86e-JdkCjgg",
        "outputId": "0cd85d2a-b6b2-48ae-d97f-ddb74e91a595"
      },
      "outputs": [
        {
          "name": "stdout",
          "output_type": "stream",
          "text": [
            "tensor([[1., 1.],\n",
            "        [1., 1.]], requires_grad=True)\n"
          ]
        }
      ],
      "source": [
        "x = torch.ones(2, 2, requires_grad=True)\n",
        "print(x)"
      ]
    },
    {
      "cell_type": "markdown",
      "metadata": {
        "id": "Nxt6-qn_E2cE"
      },
      "source": [
        "Now, whenever we perform an operation with this tensor, the new tensor that results from this operation includes a function to compute the gradient (``grad_fn``):"
      ]
    },
    {
      "cell_type": "code",
      "execution_count": 7,
      "metadata": {
        "colab": {
          "base_uri": "https://localhost:8080/"
        },
        "id": "BjQo0ZcnD_vY",
        "outputId": "81feafcb-39e9-4364-bc8b-bffaf294900c"
      },
      "outputs": [
        {
          "name": "stdout",
          "output_type": "stream",
          "text": [
            "tensor([[3., 3.],\n",
            "        [3., 3.]], grad_fn=<AddBackward0>)\n"
          ]
        }
      ],
      "source": [
        "y = x + 2\n",
        "print(y)"
      ]
    },
    {
      "cell_type": "markdown",
      "metadata": {
        "id": "MwVdJhpcTg5h"
      },
      "source": [
        "Another example follows:"
      ]
    },
    {
      "cell_type": "code",
      "execution_count": 8,
      "metadata": {
        "colab": {
          "base_uri": "https://localhost:8080/"
        },
        "id": "jLu0aHfdD_sM",
        "outputId": "d71926cd-7255-4b92-e173-4a87843c3ff5"
      },
      "outputs": [
        {
          "name": "stdout",
          "output_type": "stream",
          "text": [
            "tensor([[27., 27.],\n",
            "        [27., 27.]], grad_fn=<MulBackward0>)\n",
            "tensor(27., grad_fn=<MeanBackward0>)\n"
          ]
        }
      ],
      "source": [
        "z = y * y * 3\n",
        "out = z.mean()\n",
        "\n",
        "print(z)\n",
        "print(out)"
      ]
    },
    {
      "cell_type": "markdown",
      "metadata": {
        "id": "-gtLvuM8FHNW"
      },
      "source": [
        "To compute the gradients we must run the *backward pass* on the output tensor:"
      ]
    },
    {
      "cell_type": "code",
      "execution_count": 9,
      "metadata": {
        "id": "1PxF2JSmD_pC"
      },
      "outputs": [],
      "source": [
        "out.backward()"
      ]
    },
    {
      "cell_type": "markdown",
      "metadata": {
        "id": "cBTIfPryFM7E"
      },
      "source": [
        "And then we can access the gradient using the ``grad`` field:"
      ]
    },
    {
      "cell_type": "code",
      "execution_count": 10,
      "metadata": {
        "colab": {
          "base_uri": "https://localhost:8080/"
        },
        "id": "WlGVD58CD_lQ",
        "outputId": "f7baa55d-aff6-48e2-ab2e-cb8920b6354f"
      },
      "outputs": [
        {
          "name": "stdout",
          "output_type": "stream",
          "text": [
            "tensor([[4.5000, 4.5000],\n",
            "        [4.5000, 4.5000]])\n"
          ]
        }
      ],
      "source": [
        "print(x.grad)"
      ]
    },
    {
      "cell_type": "markdown",
      "metadata": {
        "id": "cyJxs-ZKFxEL"
      },
      "source": [
        "A simpler example, with scalar variables $x$ and $y$, follows:\n",
        "\n",
        "$$\n",
        "z = 2x^{2}y\n",
        "$$"
      ]
    },
    {
      "cell_type": "code",
      "execution_count": 11,
      "metadata": {
        "colab": {
          "base_uri": "https://localhost:8080/"
        },
        "id": "k4inFyscD_gv",
        "outputId": "0bb6abb2-0ca2-4ac8-af98-236bbae70d7d"
      },
      "outputs": [
        {
          "name": "stdout",
          "output_type": "stream",
          "text": [
            "tensor(2., requires_grad=True)\n",
            "tensor(3., requires_grad=True)\n",
            "tensor(24., grad_fn=<MulBackward0>)\n"
          ]
        }
      ],
      "source": [
        "x = torch.tensor(2., requires_grad=True)\n",
        "print(x)\n",
        "y = torch.tensor(3., requires_grad=True)\n",
        "print(y)\n",
        "z = 2*x*x*y\n",
        "print(z)"
      ]
    },
    {
      "cell_type": "markdown",
      "metadata": {
        "id": "Ueq663yyGSmW"
      },
      "source": [
        "Backward pass:"
      ]
    },
    {
      "cell_type": "code",
      "execution_count": 12,
      "metadata": {
        "id": "qc6Ac7htGRHF"
      },
      "outputs": [],
      "source": [
        "z.backward()"
      ]
    },
    {
      "cell_type": "markdown",
      "metadata": {
        "id": "EPf4FYqiGa2u"
      },
      "source": [
        "Gradients:\n",
        "\n",
        "$$\n",
        "\\frac{dz}{dx} = 4xy\n",
        "$$\n",
        "\n",
        "$$\n",
        "\\frac{dz}{dy} = 2x^{2}\n",
        "$$\n"
      ]
    },
    {
      "cell_type": "code",
      "execution_count": 13,
      "metadata": {
        "colab": {
          "base_uri": "https://localhost:8080/"
        },
        "id": "34BW29GdGREy",
        "outputId": "8d9a1e3b-c580-4430-f60b-c84b0347004c"
      },
      "outputs": [
        {
          "name": "stdout",
          "output_type": "stream",
          "text": [
            "tensor(24.)\n",
            "tensor(8.)\n"
          ]
        }
      ],
      "source": [
        "print(x.grad)\n",
        "print(y.grad)"
      ]
    },
    {
      "cell_type": "markdown",
      "metadata": {
        "id": "kJsqBAU2G0yn"
      },
      "source": [
        "### <font color=\"#CA3532\">Exercise 1: Gradient descent to find the minimum of a function</font>\n",
        "\n",
        "In the file ``dlfbt_lab3.py``, complete the code of the function ``gradient_descent_pytorch(f, x0, learning_rate, niters)`` that finds a minimum of a function using gradient descent. The function receives the following arguments:\n",
        "\n",
        "- ``f``: the function to minimize\n",
        "- ``x0``: the initial value\n",
        "- ``learning_rate``: the learning rate\n",
        "- ``niters``: the number of iterations\n",
        "\n",
        "The function returns a Numpy array with all the values of $x$.\n",
        "\n",
        "You can run the following code to test your implementation.\n"
      ]
    },
    {
      "cell_type": "code",
      "execution_count": 14,
      "metadata": {
        "id": "AMCB_kfDYDYD"
      },
      "outputs": [],
      "source": [
        "from dlfbt_lab3 import gradient_descent_pytorch"
      ]
    },
    {
      "cell_type": "markdown",
      "metadata": {
        "id": "vZtRdHguYMRa"
      },
      "source": [
        "Find the mimimum of the function $f(x) = (x-4)^{2}$:"
      ]
    },
    {
      "cell_type": "code",
      "execution_count": 15,
      "metadata": {
        "colab": {
          "base_uri": "https://localhost:8080/",
          "height": 449
        },
        "id": "vpRBIS0KArNl",
        "outputId": "0f4380d7-0b1c-4c70-b296-89a4bd91d368"
      },
      "outputs": [
        {
          "name": "stderr",
          "output_type": "stream",
          "text": [
            "/home/javiermunoz/Universidad/MasterDeepLearning/FundamentosDeepLearning/Practicas/FundamentosDL/Lab3/dlfbt_lab3.py:30: UserWarning: To copy construct from a tensor, it is recommended to use sourceTensor.clone().detach() or sourceTensor.clone().detach().requires_grad_(True), rather than torch.tensor(sourceTensor).\n",
            "  x = torch.tensor(x_numpy, requires_grad=True)\n"
          ]
        },
        {
          "data": {
            "image/png": "[encoded data removed]",
            "text/plain": [
              "<Figure size 640x480 with 1 Axes>"
            ]
          },
          "metadata": {},
          "output_type": "display_data"
        }
      ],
      "source": [
        "f = lambda x : (x - 4)**2\n",
        "x_history = gradient_descent_pytorch(f, 0.0, 1.e-2, 500)\n",
        "\n",
        "# Plot x versus iteration:\n",
        "plt.plot(x_history)\n",
        "plt.plot([0, 500], [4, 4])\n",
        "plt.grid(True)\n",
        "plt.legend(('Predicted', 'True'))\n",
        "plt.xlabel('Iteration')\n",
        "plt.ylabel('x value')\n",
        "plt.show()"
      ]
    },
    {
      "cell_type": "markdown",
      "metadata": {
        "id": "G6B42vVgZHJ4"
      },
      "source": [
        "Find a local mimimum of the function $f(x) = \\cos x$:"
      ]
    },
    {
      "cell_type": "code",
      "execution_count": 16,
      "metadata": {
        "colab": {
          "base_uri": "https://localhost:8080/",
          "height": 449
        },
        "id": "BbvUimCwZJCB",
        "outputId": "16d182a6-b2eb-4377-da81-6fba009d2238"
      },
      "outputs": [
        {
          "data": {
            "image/png": "[encoded data removed]",
            "text/plain": [
              "<Figure size 640x480 with 1 Axes>"
            ]
          },
          "metadata": {},
          "output_type": "display_data"
        }
      ],
      "source": [
        "f = lambda x : torch.cos(x)\n",
        "x_history = gradient_descent_pytorch(f, 1.0, 1.e-2, 1000)\n",
        "\n",
        "# Plot x versus iteration:\n",
        "plt.plot(x_history)\n",
        "plt.plot([0, 1000], [np.pi, np.pi])\n",
        "plt.grid(True)\n",
        "plt.legend(('Predicted', 'True'))\n",
        "plt.xlabel('Iteration')\n",
        "plt.ylabel('x value')\n",
        "plt.show()"
      ]
    },
    {
      "cell_type": "markdown",
      "metadata": {
        "id": "P9aQ48l0WioT"
      },
      "source": [
        "### <font color=\"#CA3532\">Exercise 2: Linear regression using pytorch</font>\n",
        "\n",
        "Re-implement the ``LinearRegressionModel`` class of lab 1 using PyTorch.\n",
        "\n",
        "Complete the code of the class ``LinearRegressionModel_pytorch`` by filling all the ``TO-DO`` blocks, so that it implements a Linear Regression model."
      ]
    },
    {
      "cell_type": "code",
      "execution_count": 17,
      "metadata": {
        "id": "oLiiqCN-bQdD"
      },
      "outputs": [],
      "source": [
        "from dlfbt_lab3 import LinearRegressionModel_pytorch"
      ]
    },
    {
      "cell_type": "markdown",
      "metadata": {
        "id": "Lb5YftM9bXCo"
      },
      "source": [
        "Run the following tests to check your implementation."
      ]
    },
    {
      "cell_type": "markdown",
      "metadata": {
        "id": "fzfaTfEdf7U4"
      },
      "source": [
        "Test the ``predict`` method:"
      ]
    },
    {
      "cell_type": "code",
      "execution_count": 18,
      "metadata": {
        "id": "aqUn7HA4L0Oc"
      },
      "outputs": [],
      "source": [
        "dg = dlfbt.DataGeneratorLinear(a=[-5.0, 2.0, -3.0, 2.0])\n",
        "dg.create_dataset(noise=0.0, n=500)\n",
        "\n",
        "linrm = LinearRegressionModel_pytorch()\n",
        "linrm.w = torch.tensor(dg.a, requires_grad=True)\n",
        "linrm.b = torch.tensor(dg.b, requires_grad=True)\n",
        "\n",
        "y = linrm.predict(dg.x).detach()\n",
        "\n",
        "tol = 1.e-8\n",
        "assert y.shape == (500, 1)\n",
        "assert np.abs(y - dg.t).max() < tol\n",
        "assert linrm.get_loss(dg.x, dg.t) < tol"
      ]
    },
    {
      "cell_type": "markdown",
      "metadata": {
        "id": "FG5ACvPWf6tF"
      },
      "source": [
        "Test the ``compute_gradients`` method:"
      ]
    },
    {
      "cell_type": "code",
      "execution_count": 19,
      "metadata": {
        "id": "81n7fG_WdgXS"
      },
      "outputs": [],
      "source": [
        "dg = dlfbt.DataGeneratorLinear(a=[-5.0, 2.0, -3.0, 2.0])\n",
        "dg.create_dataset(n=50000, seed=17)\n",
        "\n",
        "linrm = LinearRegressionModel_pytorch()\n",
        "linrm.w = torch.tensor(dg.a, requires_grad=True)\n",
        "linrm.b = torch.tensor(dg.b, requires_grad=True)\n",
        "\n",
        "db, dw = linrm.compute_gradients(dg.x, dg.t)\n",
        "\n",
        "tol = 1.e-8\n",
        "assert db.shape == (1, 1)\n",
        "assert np.abs(db[0][0] + 0.00704326) < tol\n",
        "assert dw.shape == (4, 1)\n",
        "assert np.abs(dw[0][0] + 0.05353578) < tol\n",
        "assert np.abs(dw[1][0] + 0.03276935) < tol\n",
        "assert np.abs(dw[2][0] + 0.00337341) < tol\n",
        "assert np.abs(dw[3][0] + 0.03293776) < tol"
      ]
    },
    {
      "cell_type": "markdown",
      "metadata": {
        "id": "m5y0C9ykgNJh"
      },
      "source": [
        "Test the ``fit`` method:"
      ]
    },
    {
      "cell_type": "code",
      "execution_count": 20,
      "metadata": {
        "id": "xzlNX_todf91"
      },
      "outputs": [
        {
          "name": "stderr",
          "output_type": "stream",
          "text": [
            "/home/javiermunoz/Universidad/MasterDeepLearning/FundamentosDeepLearning/Practicas/FundamentosDL/Lab3/dlfbt_lab3.py:124: UserWarning: To copy construct from a tensor, it is recommended to use sourceTensor.clone().detach() or sourceTensor.clone().detach().requires_grad_(True), rather than torch.tensor(sourceTensor).\n",
            "  self.b = torch.tensor(self.b - eta*db, requires_grad=True)\n",
            "/home/javiermunoz/Universidad/MasterDeepLearning/FundamentosDeepLearning/Practicas/FundamentosDL/Lab3/dlfbt_lab3.py:125: UserWarning: To copy construct from a tensor, it is recommended to use sourceTensor.clone().detach() or sourceTensor.clone().detach().requires_grad_(True), rather than torch.tensor(sourceTensor).\n",
            "  self.w = torch.tensor(self.w - eta*dw, requires_grad=True)\n"
          ]
        }
      ],
      "source": [
        "dg = dlfbt.DataGeneratorLinear(a=[2.0, 2.0])\n",
        "dg.create_dataset(n=500, seed=17)\n",
        "\n",
        "linrm = LinearRegressionModel_pytorch(2)\n",
        "linrm.w = torch.tensor([[-2.0], [-2.0]], dtype=torch.float64, requires_grad=True)\n",
        "linrm.b = torch.tensor([[-3.0]], dtype=torch.float64, requires_grad=True)\n",
        "\n",
        "loss = linrm.fit(dg.x, dg.t, 0.01, 100)\n",
        "\n",
        "tol = 1.e-8\n",
        "assert np.abs(loss[-1] - 2.660068435196912) < tol"
      ]
    },
    {
      "cell_type": "markdown",
      "metadata": {
        "id": "ypJWy5aymaIx"
      },
      "source": [
        "Plot loss vs iteration:"
      ]
    },
    {
      "cell_type": "code",
      "execution_count": 21,
      "metadata": {
        "colab": {
          "base_uri": "https://localhost:8080/",
          "height": 542
        },
        "id": "EJsZhQGmh1Du",
        "outputId": "9287f082-5813-4d87-a2f3-6449939a9672"
      },
      "outputs": [
        {
          "data": {
            "image/png": "[encoded data removed]",
            "text/plain": [
              "<Figure size 600x600 with 1 Axes>"
            ]
          },
          "metadata": {},
          "output_type": "display_data"
        }
      ],
      "source": [
        "plt.figure(figsize=(6, 6))\n",
        "plt.plot(loss)\n",
        "plt.xlabel('iteration')\n",
        "plt.ylabel('loss')\n",
        "plt.grid(True)\n",
        "plt.show()"
      ]
    },
    {
      "cell_type": "markdown",
      "metadata": {
        "id": "beFccWoLQFA-"
      },
      "source": [
        "### <font color=\"#CA3532\">Neural networks in pytorch</font>\n"
      ]
    },
    {
      "cell_type": "markdown",
      "metadata": {
        "id": "DrIWsP8SHcB7"
      },
      "source": [
        "\n",
        "We will build a simple feedforward neural network to classify the digits in the [MNIST](http://yann.lecun.com/exdb/mnist/) dataset. The next cell loads the data:"
      ]
    },
    {
      "cell_type": "code",
      "execution_count": 22,
      "metadata": {
        "colab": {
          "base_uri": "https://localhost:8080/"
        },
        "id": "0HhfMBJVQXtC",
        "outputId": "873d15be-8714-43e7-da05-5cff43889b50"
      },
      "outputs": [
        {
          "name": "stdout",
          "output_type": "stream",
          "text": [
            "(60000, 28, 28)\n",
            "(60000,)\n",
            "[5 0 4 ... 5 6 8]\n",
            "(10000, 28, 28)\n",
            "(10000,)\n",
            "[7 2 1 ... 4 5 6]\n"
          ]
        }
      ],
      "source": [
        "(train_images, train_labels), (test_images, test_labels) = tf.keras.datasets.mnist.load_data()\n",
        "\n",
        "print(train_images.shape)\n",
        "print(train_labels.shape)\n",
        "print(train_labels)\n",
        "\n",
        "print(test_images.shape)\n",
        "print(test_labels.shape)\n",
        "print(test_labels)"
      ]
    },
    {
      "cell_type": "code",
      "execution_count": 23,
      "metadata": {
        "id": "JnuRp4E0Qaoh"
      },
      "outputs": [],
      "source": [
        "import torch\n",
        "import torch.nn as nn\n",
        "import torch.nn.functional as F\n",
        "import torch.optim as optim"
      ]
    },
    {
      "cell_type": "markdown",
      "metadata": {
        "id": "XNLT7ehDRV6F"
      },
      "source": [
        "Definition of a class that implements the neural network (only the forward pass):"
      ]
    },
    {
      "cell_type": "code",
      "execution_count": 24,
      "metadata": {
        "id": "k-l_aNmbQhq4"
      },
      "outputs": [],
      "source": [
        "class Net(nn.Module):\n",
        "    def __init__(self):\n",
        "        super(Net, self).__init__()\n",
        "        self.fc1 = nn.Linear(28*28, 64)\n",
        "        self.fc2 = nn.Linear(64, 10)\n",
        "\n",
        "    def forward(self, x):\n",
        "        x = x.view(-1, 28*28)\n",
        "        x = F.relu(self.fc1(x))\n",
        "        x = self.fc2(x) # Note that we are not explicitly applying a softmax function\n",
        "        return x"
      ]
    },
    {
      "cell_type": "markdown",
      "metadata": {
        "id": "6SaWvoqHH0l9"
      },
      "source": [
        "NN instantiation:"
      ]
    },
    {
      "cell_type": "code",
      "execution_count": 25,
      "metadata": {
        "colab": {
          "base_uri": "https://localhost:8080/"
        },
        "id": "kGO3VYqWHuir",
        "outputId": "7cb9c405-1665-475e-a7a3-724e3b35a44d"
      },
      "outputs": [
        {
          "name": "stdout",
          "output_type": "stream",
          "text": [
            "Net(\n",
            "  (fc1): Linear(in_features=784, out_features=64, bias=True)\n",
            "  (fc2): Linear(in_features=64, out_features=10, bias=True)\n",
            ")\n"
          ]
        }
      ],
      "source": [
        "net = Net()\n",
        "print(net)"
      ]
    },
    {
      "cell_type": "markdown",
      "metadata": {
        "id": "yYDsFV2oIdLl"
      },
      "source": [
        "Network parameters:"
      ]
    },
    {
      "cell_type": "code",
      "execution_count": 26,
      "metadata": {
        "colab": {
          "base_uri": "https://localhost:8080/"
        },
        "id": "6p4XzR8WUiI9",
        "outputId": "5918edbd-c445-4268-9297-276330c72f0e"
      },
      "outputs": [
        {
          "name": "stdout",
          "output_type": "stream",
          "text": [
            "4\n",
            "torch.Size([64, 784])\n",
            "torch.Size([64])\n",
            "torch.Size([10, 64])\n",
            "torch.Size([10])\n"
          ]
        }
      ],
      "source": [
        "params = list(net.parameters())\n",
        "print(len(params))\n",
        "\n",
        "for p in params:\n",
        "  print(p.size())"
      ]
    },
    {
      "cell_type": "markdown",
      "metadata": {
        "id": "6vpsL9yRRZE3"
      },
      "source": [
        "Let us apply this network to a sample image:"
      ]
    },
    {
      "cell_type": "code",
      "execution_count": 27,
      "metadata": {
        "colab": {
          "base_uri": "https://localhost:8080/",
          "height": 499
        },
        "id": "Y6SaZSOuQob_",
        "outputId": "a05d8935-9f27-45b1-8a97-b934c33beda3"
      },
      "outputs": [
        {
          "name": "stdout",
          "output_type": "stream",
          "text": [
            "(28, 28)\n",
            "target = 0\n"
          ]
        },
        {
          "data": {
            "image/png": "[encoded data removed]",
            "text/plain": [
              "<Figure size 640x480 with 1 Axes>"
            ]
          },
          "metadata": {},
          "output_type": "display_data"
        },
        {
          "name": "stdout",
          "output_type": "stream",
          "text": [
            "tensor([[ -2.0503,  16.2166, -28.1306,  23.0471,  18.9531,  11.0753,  12.0300,\n",
            "          46.9982,   4.2311,   7.8534]], grad_fn=<AddmmBackward0>)\n"
          ]
        }
      ],
      "source": [
        "print(train_images[1].shape)\n",
        "print(\"target =\", train_labels[1])\n",
        "plt.imshow(train_images[1], cmap='gray')\n",
        "plt.show()\n",
        "\n",
        "# Image to tensor:\n",
        "input = torch.tensor(train_images[1], dtype=torch.float)\n",
        "\n",
        "# Predict:\n",
        "out = net(input)\n",
        "print(out)"
      ]
    },
    {
      "cell_type": "markdown",
      "metadata": {
        "id": "VWgQ-rBbUR7-"
      },
      "source": [
        "Define the optimizer:"
      ]
    },
    {
      "cell_type": "code",
      "execution_count": 28,
      "metadata": {
        "id": "rQrG3GEfRkQf"
      },
      "outputs": [],
      "source": [
        "criterion = nn.CrossEntropyLoss()\n",
        "optimizer = optim.SGD(net.parameters(), lr=0.001, momentum=0.9)"
      ]
    },
    {
      "cell_type": "markdown",
      "metadata": {
        "id": "pPQCb3W0Jmp4"
      },
      "source": [
        "Network training:"
      ]
    },
    {
      "cell_type": "code",
      "execution_count": 29,
      "metadata": {
        "id": "hYSNntVeTHYW"
      },
      "outputs": [
        {
          "name": "stdout",
          "output_type": "stream",
          "text": [
            "[1] loss: 21.582\n",
            "[2] loss: 14.609\n",
            "[3] loss: 11.799\n",
            "[4] loss: 12.586\n",
            "[5] loss: 8.176\n",
            "[6] loss: 3.861\n",
            "[7] loss: 3.307\n",
            "[8] loss: 1.861\n",
            "[9] loss: 1.628\n",
            "[10] loss: 1.524\n",
            "[11] loss: 1.394\n",
            "[12] loss: 1.358\n",
            "[13] loss: 1.412\n",
            "[14] loss: 1.344\n",
            "[15] loss: 1.353\n",
            "[16] loss: 1.337\n",
            "[17] loss: 1.254\n",
            "[18] loss: 1.264\n",
            "[19] loss: 1.158\n",
            "[20] loss: 1.261\n",
            "[21] loss: 1.121\n",
            "[22] loss: 1.037\n",
            "[23] loss: 1.022\n",
            "[24] loss: 1.017\n",
            "[25] loss: 1.006\n",
            "[26] loss: 1.055\n",
            "[27] loss: 0.983\n",
            "[28] loss: 0.893\n",
            "[29] loss: 0.929\n",
            "[30] loss: 0.976\n",
            "[31] loss: 0.983\n",
            "[32] loss: 0.903\n",
            "[33] loss: 0.919\n",
            "[34] loss: 0.832\n",
            "[35] loss: 0.853\n",
            "[36] loss: 0.875\n",
            "[37] loss: 0.913\n",
            "[38] loss: 0.848\n",
            "[39] loss: 0.799\n",
            "[40] loss: 0.780\n",
            "[41] loss: 0.784\n",
            "[42] loss: 0.780\n",
            "[43] loss: 0.724\n",
            "[44] loss: 0.746\n",
            "[45] loss: 0.719\n",
            "[46] loss: 0.667\n",
            "[47] loss: 0.647\n",
            "[48] loss: 0.685\n",
            "[49] loss: 0.663\n",
            "[50] loss: 0.720\n",
            "[51] loss: 0.721\n",
            "[52] loss: 0.643\n",
            "[53] loss: 0.636\n",
            "[54] loss: 0.618\n",
            "[55] loss: 0.621\n",
            "[56] loss: 0.640\n",
            "[57] loss: 0.697\n",
            "[58] loss: 0.585\n",
            "[59] loss: 0.584\n",
            "[60] loss: 0.632\n",
            "[61] loss: 0.577\n",
            "[62] loss: 0.539\n",
            "[63] loss: 0.604\n",
            "[64] loss: 0.598\n",
            "[65] loss: 0.602\n",
            "[66] loss: 0.603\n",
            "[67] loss: 0.563\n",
            "[68] loss: 0.522\n",
            "[69] loss: 0.632\n",
            "[70] loss: 0.513\n",
            "[71] loss: 0.625\n",
            "[72] loss: 0.588\n",
            "[73] loss: 0.536\n",
            "[74] loss: 0.581\n",
            "[75] loss: 0.513\n",
            "[76] loss: 0.527\n",
            "[77] loss: 0.494\n",
            "[78] loss: 0.508\n",
            "[79] loss: 0.439\n",
            "[80] loss: 0.583\n",
            "[81] loss: 0.504\n",
            "[82] loss: 0.574\n",
            "[83] loss: 0.479\n",
            "[84] loss: 0.530\n",
            "[85] loss: 0.420\n",
            "[86] loss: 0.512\n",
            "[87] loss: 0.492\n",
            "[88] loss: 0.513\n",
            "[89] loss: 0.458\n",
            "[90] loss: 0.479\n",
            "[91] loss: 0.495\n",
            "[92] loss: 0.493\n",
            "[93] loss: 0.535\n",
            "[94] loss: 0.463\n",
            "[95] loss: 0.513\n",
            "[96] loss: 0.496\n",
            "[97] loss: 0.445\n",
            "[98] loss: 0.448\n",
            "[99] loss: 0.384\n",
            "[100] loss: 0.463\n",
            "[101] loss: 0.416\n",
            "[102] loss: 0.441\n",
            "[103] loss: 0.466\n",
            "[104] loss: 0.397\n",
            "[105] loss: 0.400\n",
            "[106] loss: 0.455\n",
            "[107] loss: 0.515\n",
            "[108] loss: 0.457\n",
            "[109] loss: 0.388\n",
            "[110] loss: 0.394\n",
            "[111] loss: 0.455\n",
            "[112] loss: 0.357\n",
            "[113] loss: 0.405\n",
            "[114] loss: 0.377\n",
            "[115] loss: 0.355\n",
            "[116] loss: 0.454\n",
            "[117] loss: 0.450\n",
            "[118] loss: 0.433\n",
            "[119] loss: 0.458\n",
            "[120] loss: 0.420\n",
            "[121] loss: 0.353\n",
            "[122] loss: 0.445\n",
            "[123] loss: 0.390\n",
            "[124] loss: 0.442\n",
            "[125] loss: 0.441\n",
            "[126] loss: 0.404\n",
            "[127] loss: 0.439\n",
            "[128] loss: 0.386\n",
            "[129] loss: 0.388\n",
            "[130] loss: 0.374\n",
            "[131] loss: 0.402\n",
            "[132] loss: 0.326\n",
            "[133] loss: 0.405\n",
            "[134] loss: 0.433\n",
            "[135] loss: 0.429\n",
            "[136] loss: 0.379\n",
            "[137] loss: 0.377\n",
            "[138] loss: 0.386\n",
            "[139] loss: 0.337\n",
            "[140] loss: 0.444\n",
            "[141] loss: 0.285\n",
            "[142] loss: 0.348\n",
            "[143] loss: 0.341\n",
            "[144] loss: 0.443\n",
            "[145] loss: 0.444\n",
            "[146] loss: 0.407\n",
            "[147] loss: 0.378\n",
            "[148] loss: 0.446\n",
            "[149] loss: 0.341\n",
            "[150] loss: 0.393\n",
            "[151] loss: 0.361\n",
            "[152] loss: 0.365\n",
            "[153] loss: 0.356\n",
            "[154] loss: 0.331\n",
            "[155] loss: 0.407\n",
            "[156] loss: 0.355\n",
            "[157] loss: 0.318\n",
            "[158] loss: 0.388\n",
            "[159] loss: 0.359\n",
            "[160] loss: 0.384\n",
            "[161] loss: 0.460\n",
            "[162] loss: 0.339\n",
            "[163] loss: 0.381\n",
            "[164] loss: 0.354\n",
            "[165] loss: 0.300\n",
            "[166] loss: 0.412\n",
            "[167] loss: 0.353\n",
            "[168] loss: 0.358\n",
            "[169] loss: 0.367\n",
            "[170] loss: 0.338\n",
            "[171] loss: 0.336\n",
            "[172] loss: 0.379\n",
            "[173] loss: 0.369\n",
            "[174] loss: 0.311\n",
            "[175] loss: 0.379\n",
            "[176] loss: 0.314\n",
            "[177] loss: 0.325\n",
            "[178] loss: 0.381\n",
            "[179] loss: 0.372\n",
            "[180] loss: 0.293\n",
            "[181] loss: 0.337\n",
            "[182] loss: 0.371\n",
            "[183] loss: 0.351\n",
            "[184] loss: 0.351\n",
            "[185] loss: 0.304\n",
            "[186] loss: 0.338\n",
            "[187] loss: 0.317\n",
            "[188] loss: 0.335\n",
            "[189] loss: 0.331\n",
            "[190] loss: 0.301\n",
            "[191] loss: 0.392\n",
            "[192] loss: 0.285\n",
            "[193] loss: 0.375\n",
            "[194] loss: 0.342\n",
            "[195] loss: 0.324\n",
            "[196] loss: 0.323\n",
            "[197] loss: 0.355\n",
            "[198] loss: 0.299\n",
            "[199] loss: 0.327\n",
            "[200] loss: 0.336\n",
            "[201] loss: 0.374\n",
            "[202] loss: 0.333\n",
            "[203] loss: 0.339\n",
            "[204] loss: 0.336\n",
            "[205] loss: 0.324\n",
            "[206] loss: 0.258\n",
            "[207] loss: 0.299\n",
            "[208] loss: 0.350\n",
            "[209] loss: 0.324\n",
            "[210] loss: 0.379\n",
            "[211] loss: 0.334\n",
            "[212] loss: 0.313\n",
            "[213] loss: 0.308\n",
            "[214] loss: 0.331\n",
            "[215] loss: 0.298\n",
            "[216] loss: 0.280\n",
            "[217] loss: 0.344\n",
            "[218] loss: 0.294\n",
            "[219] loss: 0.268\n",
            "[220] loss: 0.346\n",
            "[221] loss: 0.321\n",
            "[222] loss: 0.319\n",
            "[223] loss: 0.319\n",
            "[224] loss: 0.381\n",
            "[225] loss: 0.308\n",
            "[226] loss: 0.267\n",
            "[227] loss: 0.314\n",
            "[228] loss: 0.349\n",
            "[229] loss: 0.281\n",
            "[230] loss: 0.315\n",
            "[231] loss: 0.312\n",
            "[232] loss: 0.315\n",
            "[233] loss: 0.301\n",
            "[234] loss: 0.306\n",
            "[235] loss: 0.307\n",
            "[236] loss: 0.245\n",
            "[237] loss: 0.298\n",
            "[238] loss: 0.289\n",
            "[239] loss: 0.320\n",
            "[240] loss: 0.290\n",
            "[241] loss: 0.297\n",
            "[242] loss: 0.341\n",
            "[243] loss: 0.332\n",
            "[244] loss: 0.289\n",
            "[245] loss: 0.307\n",
            "[246] loss: 0.358\n",
            "[247] loss: 0.390\n",
            "[248] loss: 0.298\n",
            "[249] loss: 0.347\n",
            "[250] loss: 0.288\n",
            "[251] loss: 0.338\n",
            "[252] loss: 0.354\n",
            "[253] loss: 0.304\n",
            "[254] loss: 0.252\n",
            "[255] loss: 0.334\n",
            "[256] loss: 0.310\n",
            "[257] loss: 0.317\n",
            "[258] loss: 0.275\n",
            "[259] loss: 0.277\n",
            "[260] loss: 0.279\n",
            "[261] loss: 0.284\n",
            "[262] loss: 0.255\n",
            "[263] loss: 0.286\n",
            "[264] loss: 0.254\n",
            "[265] loss: 0.325\n",
            "[266] loss: 0.297\n",
            "[267] loss: 0.278\n",
            "[268] loss: 0.310\n",
            "[269] loss: 0.271\n",
            "[270] loss: 0.272\n",
            "[271] loss: 0.308\n",
            "[272] loss: 0.308\n",
            "[273] loss: 0.277\n",
            "[274] loss: 0.290\n",
            "[275] loss: 0.302\n",
            "[276] loss: 0.356\n",
            "[277] loss: 0.260\n",
            "[278] loss: 0.238\n",
            "[279] loss: 0.299\n",
            "[280] loss: 0.291\n",
            "[281] loss: 0.310\n",
            "[282] loss: 0.294\n",
            "[283] loss: 0.315\n",
            "[284] loss: 0.274\n",
            "[285] loss: 0.320\n",
            "[286] loss: 0.283\n",
            "[287] loss: 0.287\n",
            "[288] loss: 0.273\n",
            "[289] loss: 0.304\n",
            "[290] loss: 0.273\n",
            "[291] loss: 0.283\n",
            "[292] loss: 0.296\n",
            "[293] loss: 0.307\n",
            "[294] loss: 0.279\n",
            "[295] loss: 0.275\n",
            "[296] loss: 0.293\n",
            "[297] loss: 0.298\n",
            "[298] loss: 0.282\n",
            "[299] loss: 0.334\n",
            "[300] loss: 0.238\n",
            "[301] loss: 0.271\n",
            "[302] loss: 0.273\n",
            "[303] loss: 0.298\n",
            "[304] loss: 0.296\n",
            "[305] loss: 0.260\n",
            "[306] loss: 0.336\n",
            "[307] loss: 0.245\n",
            "[308] loss: 0.300\n",
            "[309] loss: 0.268\n",
            "[310] loss: 0.303\n",
            "[311] loss: 0.296\n",
            "[312] loss: 0.284\n",
            "[313] loss: 0.261\n",
            "[314] loss: 0.281\n",
            "[315] loss: 0.306\n",
            "[316] loss: 0.286\n",
            "[317] loss: 0.305\n",
            "[318] loss: 0.278\n",
            "[319] loss: 0.232\n",
            "[320] loss: 0.267\n",
            "[321] loss: 0.224\n",
            "[322] loss: 0.242\n",
            "[323] loss: 0.253\n",
            "[324] loss: 0.258\n",
            "[325] loss: 0.287\n",
            "[326] loss: 0.227\n",
            "[327] loss: 0.335\n",
            "[328] loss: 0.271\n",
            "[329] loss: 0.271\n",
            "[330] loss: 0.257\n",
            "[331] loss: 0.288\n",
            "[332] loss: 0.276\n",
            "[333] loss: 0.328\n",
            "[334] loss: 0.266\n",
            "[335] loss: 0.272\n",
            "[336] loss: 0.269\n",
            "[337] loss: 0.261\n",
            "[338] loss: 0.289\n",
            "[339] loss: 0.305\n",
            "[340] loss: 0.256\n",
            "[341] loss: 0.309\n",
            "[342] loss: 0.237\n",
            "[343] loss: 0.295\n",
            "[344] loss: 0.292\n",
            "[345] loss: 0.209\n",
            "[346] loss: 0.243\n",
            "[347] loss: 0.261\n",
            "[348] loss: 0.229\n",
            "[349] loss: 0.276\n",
            "[350] loss: 0.293\n",
            "[351] loss: 0.252\n",
            "[352] loss: 0.230\n",
            "[353] loss: 0.217\n",
            "[354] loss: 0.265\n",
            "[355] loss: 0.328\n",
            "[356] loss: 0.222\n",
            "[357] loss: 0.253\n",
            "[358] loss: 0.226\n",
            "[359] loss: 0.263\n",
            "[360] loss: 0.334\n",
            "[361] loss: 0.231\n",
            "[362] loss: 0.256\n",
            "[363] loss: 0.330\n",
            "[364] loss: 0.286\n",
            "[365] loss: 0.294\n",
            "[366] loss: 0.240\n",
            "[367] loss: 0.251\n",
            "[368] loss: 0.252\n",
            "[369] loss: 0.362\n",
            "[370] loss: 0.289\n",
            "[371] loss: 0.244\n",
            "[372] loss: 0.272\n",
            "[373] loss: 0.211\n",
            "[374] loss: 0.271\n",
            "[375] loss: 0.254\n",
            "[376] loss: 0.243\n",
            "[377] loss: 0.274\n",
            "[378] loss: 0.266\n",
            "[379] loss: 0.246\n",
            "[380] loss: 0.254\n",
            "[381] loss: 0.229\n",
            "[382] loss: 0.232\n",
            "[383] loss: 0.216\n",
            "[384] loss: 0.282\n",
            "[385] loss: 0.258\n",
            "[386] loss: 0.226\n",
            "[387] loss: 0.234\n",
            "[388] loss: 0.224\n",
            "[389] loss: 0.224\n",
            "[390] loss: 0.270\n",
            "[391] loss: 0.257\n",
            "[392] loss: 0.269\n",
            "[393] loss: 0.294\n",
            "[394] loss: 0.204\n",
            "[395] loss: 0.192\n",
            "[396] loss: 0.307\n",
            "[397] loss: 0.191\n",
            "[398] loss: 0.243\n",
            "[399] loss: 0.261\n",
            "[400] loss: 0.222\n",
            "[401] loss: 0.261\n",
            "[402] loss: 0.277\n",
            "[403] loss: 0.293\n",
            "[404] loss: 0.244\n",
            "[405] loss: 0.230\n",
            "[406] loss: 0.284\n",
            "[407] loss: 0.267\n",
            "[408] loss: 0.257\n",
            "[409] loss: 0.263\n",
            "[410] loss: 0.255\n",
            "[411] loss: 0.230\n",
            "[412] loss: 0.244\n",
            "[413] loss: 0.278\n",
            "[414] loss: 0.230\n",
            "[415] loss: 0.229\n",
            "[416] loss: 0.268\n",
            "[417] loss: 0.276\n",
            "[418] loss: 0.244\n",
            "[419] loss: 0.224\n",
            "[420] loss: 0.180\n",
            "[421] loss: 0.209\n",
            "[422] loss: 0.228\n",
            "[423] loss: 0.301\n",
            "[424] loss: 0.231\n",
            "[425] loss: 0.312\n",
            "[426] loss: 0.285\n",
            "[427] loss: 0.264\n",
            "[428] loss: 0.269\n",
            "[429] loss: 0.196\n",
            "[430] loss: 0.221\n",
            "[431] loss: 0.241\n",
            "[432] loss: 0.202\n",
            "[433] loss: 0.230\n",
            "[434] loss: 0.234\n",
            "[435] loss: 0.240\n",
            "[436] loss: 0.238\n",
            "[437] loss: 0.218\n",
            "[438] loss: 0.227\n",
            "[439] loss: 0.256\n",
            "[440] loss: 0.259\n",
            "[441] loss: 0.280\n",
            "[442] loss: 0.239\n",
            "[443] loss: 0.288\n",
            "[444] loss: 0.239\n",
            "[445] loss: 0.232\n",
            "[446] loss: 0.249\n",
            "[447] loss: 0.250\n",
            "[448] loss: 0.291\n",
            "[449] loss: 0.199\n",
            "[450] loss: 0.234\n",
            "[451] loss: 0.303\n",
            "[452] loss: 0.296\n",
            "[453] loss: 0.206\n",
            "[454] loss: 0.241\n",
            "[455] loss: 0.228\n",
            "[456] loss: 0.246\n",
            "[457] loss: 0.273\n",
            "[458] loss: 0.288\n",
            "[459] loss: 0.219\n",
            "[460] loss: 0.248\n",
            "[461] loss: 0.218\n",
            "[462] loss: 0.212\n",
            "[463] loss: 0.240\n",
            "[464] loss: 0.177\n",
            "[465] loss: 0.279\n",
            "[466] loss: 0.246\n",
            "[467] loss: 0.245\n",
            "[468] loss: 0.204\n",
            "[469] loss: 0.230\n",
            "[470] loss: 0.242\n",
            "[471] loss: 0.230\n",
            "[472] loss: 0.234\n",
            "[473] loss: 0.242\n",
            "[474] loss: 0.270\n",
            "[475] loss: 0.202\n",
            "[476] loss: 0.278\n",
            "[477] loss: 0.270\n",
            "[478] loss: 0.230\n",
            "[479] loss: 0.278\n",
            "[480] loss: 0.206\n",
            "[481] loss: 0.246\n",
            "[482] loss: 0.247\n",
            "[483] loss: 0.209\n",
            "[484] loss: 0.232\n",
            "[485] loss: 0.218\n",
            "[486] loss: 0.212\n",
            "[487] loss: 0.243\n",
            "[488] loss: 0.196\n",
            "[489] loss: 0.214\n",
            "[490] loss: 0.227\n",
            "[491] loss: 0.207\n",
            "[492] loss: 0.250\n",
            "[493] loss: 0.273\n",
            "[494] loss: 0.226\n",
            "[495] loss: 0.187\n",
            "[496] loss: 0.209\n",
            "[497] loss: 0.208\n",
            "[498] loss: 0.235\n",
            "[499] loss: 0.244\n",
            "[500] loss: 0.246\n",
            "[501] loss: 0.253\n",
            "[502] loss: 0.245\n",
            "[503] loss: 0.191\n",
            "[504] loss: 0.264\n",
            "[505] loss: 0.215\n",
            "[506] loss: 0.214\n",
            "[507] loss: 0.171\n",
            "[508] loss: 0.240\n",
            "[509] loss: 0.262\n",
            "[510] loss: 0.197\n",
            "[511] loss: 0.242\n",
            "[512] loss: 0.203\n",
            "[513] loss: 0.207\n",
            "[514] loss: 0.201\n",
            "[515] loss: 0.226\n",
            "[516] loss: 0.233\n",
            "[517] loss: 0.206\n",
            "[518] loss: 0.203\n",
            "[519] loss: 0.173\n",
            "[520] loss: 0.193\n",
            "[521] loss: 0.198\n",
            "[522] loss: 0.232\n",
            "[523] loss: 0.247\n",
            "[524] loss: 0.262\n",
            "[525] loss: 0.208\n",
            "[526] loss: 0.222\n",
            "[527] loss: 0.207\n",
            "[528] loss: 0.236\n",
            "[529] loss: 0.217\n",
            "[530] loss: 0.225\n",
            "[531] loss: 0.226\n",
            "[532] loss: 0.213\n",
            "[533] loss: 0.253\n",
            "[534] loss: 0.223\n",
            "[535] loss: 0.229\n",
            "[536] loss: 0.177\n",
            "[537] loss: 0.224\n",
            "[538] loss: 0.255\n",
            "[539] loss: 0.217\n",
            "[540] loss: 0.230\n",
            "[541] loss: 0.194\n",
            "[542] loss: 0.209\n",
            "[543] loss: 0.210\n",
            "[544] loss: 0.205\n",
            "[545] loss: 0.214\n",
            "[546] loss: 0.196\n",
            "[547] loss: 0.200\n",
            "[548] loss: 0.240\n",
            "[549] loss: 0.245\n",
            "[550] loss: 0.214\n",
            "[551] loss: 0.202\n",
            "[552] loss: 0.214\n",
            "[553] loss: 0.250\n",
            "[554] loss: 0.215\n",
            "[555] loss: 0.231\n",
            "[556] loss: 0.243\n",
            "[557] loss: 0.275\n",
            "[558] loss: 0.195\n",
            "[559] loss: 0.279\n",
            "[560] loss: 0.219\n",
            "[561] loss: 0.254\n",
            "[562] loss: 0.211\n",
            "[563] loss: 0.212\n",
            "[564] loss: 0.224\n",
            "[565] loss: 0.238\n",
            "[566] loss: 0.232\n",
            "[567] loss: 0.237\n",
            "[568] loss: 0.200\n",
            "[569] loss: 0.236\n",
            "[570] loss: 0.278\n",
            "[571] loss: 0.204\n",
            "[572] loss: 0.231\n",
            "[573] loss: 0.202\n",
            "[574] loss: 0.268\n",
            "[575] loss: 0.249\n",
            "[576] loss: 0.230\n",
            "[577] loss: 0.248\n",
            "[578] loss: 0.262\n",
            "[579] loss: 0.208\n",
            "[580] loss: 0.236\n",
            "[581] loss: 0.198\n",
            "[582] loss: 0.254\n",
            "[583] loss: 0.235\n",
            "[584] loss: 0.217\n",
            "[585] loss: 0.239\n",
            "[586] loss: 0.213\n",
            "[587] loss: 0.197\n",
            "[588] loss: 0.231\n",
            "[589] loss: 0.163\n",
            "[590] loss: 0.195\n",
            "[591] loss: 0.214\n",
            "[592] loss: 0.211\n",
            "[593] loss: 0.167\n",
            "[594] loss: 0.224\n",
            "[595] loss: 0.258\n",
            "[596] loss: 0.224\n",
            "[597] loss: 0.215\n",
            "[598] loss: 0.191\n",
            "[599] loss: 0.208\n",
            "[600] loss: 0.250\n",
            "[601] loss: 0.227\n",
            "[602] loss: 0.208\n",
            "[603] loss: 0.253\n",
            "[604] loss: 0.222\n",
            "[605] loss: 0.189\n",
            "[606] loss: 0.229\n",
            "[607] loss: 0.153\n",
            "[608] loss: 0.277\n",
            "[609] loss: 0.259\n",
            "[610] loss: 0.211\n",
            "[611] loss: 0.211\n",
            "[612] loss: 0.219\n",
            "[613] loss: 0.212\n",
            "[614] loss: 0.240\n",
            "[615] loss: 0.221\n",
            "[616] loss: 0.240\n",
            "[617] loss: 0.193\n",
            "[618] loss: 0.239\n",
            "[619] loss: 0.249\n",
            "[620] loss: 0.172\n",
            "[621] loss: 0.222\n",
            "[622] loss: 0.257\n",
            "[623] loss: 0.246\n",
            "[624] loss: 0.214\n",
            "[625] loss: 0.191\n",
            "[626] loss: 0.194\n",
            "[627] loss: 0.232\n",
            "[628] loss: 0.189\n",
            "[629] loss: 0.228\n",
            "[630] loss: 0.207\n",
            "[631] loss: 0.186\n",
            "[632] loss: 0.235\n",
            "[633] loss: 0.192\n",
            "[634] loss: 0.192\n",
            "[635] loss: 0.200\n",
            "[636] loss: 0.239\n",
            "[637] loss: 0.227\n",
            "[638] loss: 0.212\n",
            "[639] loss: 0.212\n",
            "[640] loss: 0.207\n",
            "[641] loss: 0.255\n",
            "[642] loss: 0.179\n",
            "[643] loss: 0.218\n",
            "[644] loss: 0.257\n",
            "[645] loss: 0.248\n",
            "[646] loss: 0.197\n",
            "[647] loss: 0.202\n",
            "[648] loss: 0.219\n",
            "[649] loss: 0.190\n",
            "[650] loss: 0.233\n",
            "[651] loss: 0.213\n",
            "[652] loss: 0.174\n",
            "[653] loss: 0.187\n",
            "[654] loss: 0.183\n",
            "[655] loss: 0.202\n",
            "[656] loss: 0.190\n",
            "[657] loss: 0.247\n",
            "[658] loss: 0.238\n",
            "[659] loss: 0.200\n",
            "[660] loss: 0.218\n",
            "[661] loss: 0.190\n",
            "[662] loss: 0.186\n",
            "[663] loss: 0.170\n",
            "[664] loss: 0.224\n",
            "[665] loss: 0.177\n",
            "[666] loss: 0.198\n",
            "[667] loss: 0.186\n",
            "[668] loss: 0.181\n",
            "[669] loss: 0.256\n",
            "[670] loss: 0.210\n",
            "[671] loss: 0.202\n",
            "[672] loss: 0.198\n",
            "[673] loss: 0.202\n",
            "[674] loss: 0.166\n",
            "[675] loss: 0.213\n",
            "[676] loss: 0.176\n",
            "[677] loss: 0.221\n",
            "[678] loss: 0.161\n",
            "[679] loss: 0.212\n",
            "[680] loss: 0.184\n",
            "[681] loss: 0.225\n",
            "[682] loss: 0.198\n",
            "[683] loss: 0.161\n",
            "[684] loss: 0.155\n",
            "[685] loss: 0.205\n",
            "[686] loss: 0.210\n",
            "[687] loss: 0.258\n",
            "[688] loss: 0.219\n",
            "[689] loss: 0.168\n",
            "[690] loss: 0.189\n",
            "[691] loss: 0.185\n",
            "[692] loss: 0.225\n",
            "[693] loss: 0.220\n",
            "[694] loss: 0.183\n",
            "[695] loss: 0.208\n",
            "[696] loss: 0.204\n",
            "[697] loss: 0.193\n",
            "[698] loss: 0.184\n",
            "[699] loss: 0.217\n",
            "[700] loss: 0.178\n",
            "[701] loss: 0.196\n",
            "[702] loss: 0.206\n",
            "[703] loss: 0.176\n",
            "[704] loss: 0.261\n",
            "[705] loss: 0.171\n",
            "[706] loss: 0.161\n",
            "[707] loss: 0.252\n",
            "[708] loss: 0.180\n",
            "[709] loss: 0.173\n",
            "[710] loss: 0.210\n",
            "[711] loss: 0.186\n",
            "[712] loss: 0.200\n",
            "[713] loss: 0.213\n",
            "[714] loss: 0.173\n",
            "[715] loss: 0.178\n",
            "[716] loss: 0.211\n",
            "[717] loss: 0.161\n",
            "[718] loss: 0.190\n",
            "[719] loss: 0.236\n",
            "[720] loss: 0.227\n",
            "[721] loss: 0.235\n",
            "[722] loss: 0.201\n",
            "[723] loss: 0.194\n",
            "[724] loss: 0.191\n",
            "[725] loss: 0.299\n",
            "[726] loss: 0.206\n",
            "[727] loss: 0.204\n",
            "[728] loss: 0.203\n",
            "[729] loss: 0.220\n",
            "[730] loss: 0.189\n",
            "[731] loss: 0.220\n",
            "[732] loss: 0.242\n",
            "[733] loss: 0.242\n",
            "[734] loss: 0.186\n",
            "[735] loss: 0.175\n",
            "[736] loss: 0.207\n",
            "[737] loss: 0.202\n",
            "[738] loss: 0.232\n",
            "[739] loss: 0.190\n",
            "[740] loss: 0.179\n",
            "[741] loss: 0.193\n",
            "[742] loss: 0.191\n",
            "[743] loss: 0.190\n",
            "[744] loss: 0.159\n",
            "[745] loss: 0.198\n",
            "[746] loss: 0.163\n",
            "[747] loss: 0.169\n",
            "[748] loss: 0.215\n",
            "[749] loss: 0.229\n",
            "[750] loss: 0.220\n",
            "[751] loss: 0.199\n",
            "[752] loss: 0.208\n",
            "[753] loss: 0.189\n",
            "[754] loss: 0.188\n",
            "[755] loss: 0.174\n",
            "[756] loss: 0.186\n",
            "[757] loss: 0.155\n",
            "[758] loss: 0.179\n",
            "[759] loss: 0.186\n",
            "[760] loss: 0.256\n",
            "[761] loss: 0.212\n",
            "[762] loss: 0.203\n",
            "[763] loss: 0.171\n",
            "[764] loss: 0.175\n",
            "[765] loss: 0.214\n",
            "[766] loss: 0.253\n",
            "[767] loss: 0.184\n",
            "[768] loss: 0.182\n",
            "[769] loss: 0.178\n",
            "[770] loss: 0.161\n",
            "[771] loss: 0.159\n",
            "[772] loss: 0.196\n",
            "[773] loss: 0.170\n",
            "[774] loss: 0.213\n",
            "[775] loss: 0.177\n",
            "[776] loss: 0.152\n",
            "[777] loss: 0.209\n",
            "[778] loss: 0.198\n",
            "[779] loss: 0.208\n",
            "[780] loss: 0.191\n",
            "[781] loss: 0.224\n",
            "[782] loss: 0.206\n",
            "[783] loss: 0.189\n",
            "[784] loss: 0.166\n",
            "[785] loss: 0.186\n",
            "[786] loss: 0.225\n",
            "[787] loss: 0.205\n",
            "[788] loss: 0.180\n",
            "[789] loss: 0.132\n",
            "[790] loss: 0.193\n",
            "[791] loss: 0.192\n",
            "[792] loss: 0.204\n",
            "[793] loss: 0.145\n",
            "[794] loss: 0.198\n",
            "[795] loss: 0.205\n",
            "[796] loss: 0.174\n",
            "[797] loss: 0.186\n",
            "[798] loss: 0.151\n",
            "[799] loss: 0.205\n",
            "[800] loss: 0.174\n",
            "[801] loss: 0.205\n",
            "[802] loss: 0.206\n",
            "[803] loss: 0.181\n",
            "[804] loss: 0.209\n",
            "[805] loss: 0.221\n",
            "[806] loss: 0.180\n",
            "[807] loss: 0.168\n",
            "[808] loss: 0.205\n",
            "[809] loss: 0.164\n",
            "[810] loss: 0.164\n",
            "[811] loss: 0.221\n",
            "[812] loss: 0.201\n",
            "[813] loss: 0.171\n",
            "[814] loss: 0.168\n",
            "[815] loss: 0.175\n",
            "[816] loss: 0.182\n",
            "[817] loss: 0.154\n",
            "[818] loss: 0.227\n",
            "[819] loss: 0.192\n",
            "[820] loss: 0.171\n",
            "[821] loss: 0.185\n",
            "[822] loss: 0.192\n",
            "[823] loss: 0.181\n",
            "[824] loss: 0.191\n",
            "[825] loss: 0.175\n",
            "[826] loss: 0.211\n",
            "[827] loss: 0.186\n",
            "[828] loss: 0.153\n",
            "[829] loss: 0.173\n",
            "[830] loss: 0.178\n",
            "[831] loss: 0.164\n",
            "[832] loss: 0.191\n",
            "[833] loss: 0.193\n",
            "[834] loss: 0.206\n",
            "[835] loss: 0.159\n",
            "[836] loss: 0.173\n",
            "[837] loss: 0.199\n",
            "[838] loss: 0.187\n",
            "[839] loss: 0.184\n",
            "[840] loss: 0.221\n",
            "[841] loss: 0.200\n",
            "[842] loss: 0.209\n",
            "[843] loss: 0.183\n",
            "[844] loss: 0.177\n",
            "[845] loss: 0.221\n",
            "[846] loss: 0.198\n",
            "[847] loss: 0.186\n",
            "[848] loss: 0.209\n",
            "[849] loss: 0.232\n",
            "[850] loss: 0.191\n",
            "[851] loss: 0.157\n",
            "[852] loss: 0.210\n",
            "[853] loss: 0.184\n",
            "[854] loss: 0.179\n",
            "[855] loss: 0.158\n",
            "[856] loss: 0.189\n",
            "[857] loss: 0.171\n",
            "[858] loss: 0.171\n",
            "[859] loss: 0.242\n",
            "[860] loss: 0.226\n",
            "[861] loss: 0.175\n",
            "[862] loss: 0.189\n",
            "[863] loss: 0.171\n",
            "[864] loss: 0.190\n",
            "[865] loss: 0.187\n",
            "[866] loss: 0.185\n",
            "[867] loss: 0.121\n",
            "[868] loss: 0.158\n",
            "[869] loss: 0.178\n",
            "[870] loss: 0.200\n",
            "[871] loss: 0.173\n",
            "[872] loss: 0.172\n",
            "[873] loss: 0.194\n",
            "[874] loss: 0.155\n",
            "[875] loss: 0.196\n",
            "[876] loss: 0.158\n",
            "[877] loss: 0.180\n",
            "[878] loss: 0.181\n",
            "[879] loss: 0.198\n",
            "[880] loss: 0.213\n",
            "[881] loss: 0.193\n",
            "[882] loss: 0.184\n",
            "[883] loss: 0.191\n",
            "[884] loss: 0.154\n",
            "[885] loss: 0.164\n",
            "[886] loss: 0.208\n",
            "[887] loss: 0.150\n",
            "[888] loss: 0.195\n",
            "[889] loss: 0.190\n",
            "[890] loss: 0.150\n",
            "[891] loss: 0.182\n",
            "[892] loss: 0.188\n",
            "[893] loss: 0.207\n",
            "[894] loss: 0.203\n",
            "[895] loss: 0.164\n",
            "[896] loss: 0.172\n",
            "[897] loss: 0.186\n",
            "[898] loss: 0.158\n",
            "[899] loss: 0.219\n",
            "[900] loss: 0.209\n",
            "[901] loss: 0.180\n",
            "[902] loss: 0.169\n",
            "[903] loss: 0.176\n",
            "[904] loss: 0.172\n",
            "[905] loss: 0.177\n",
            "[906] loss: 0.166\n",
            "[907] loss: 0.208\n",
            "[908] loss: 0.186\n",
            "[909] loss: 0.174\n",
            "[910] loss: 0.209\n",
            "[911] loss: 0.175\n",
            "[912] loss: 0.170\n",
            "[913] loss: 0.171\n",
            "[914] loss: 0.194\n",
            "[915] loss: 0.174\n",
            "[916] loss: 0.170\n",
            "[917] loss: 0.165\n",
            "[918] loss: 0.172\n",
            "[919] loss: 0.206\n",
            "[920] loss: 0.199\n",
            "[921] loss: 0.262\n",
            "[922] loss: 0.220\n",
            "[923] loss: 0.153\n",
            "[924] loss: 0.184\n",
            "[925] loss: 0.164\n",
            "[926] loss: 0.186\n",
            "[927] loss: 0.162\n",
            "[928] loss: 0.148\n",
            "[929] loss: 0.204\n",
            "[930] loss: 0.163\n",
            "[931] loss: 0.204\n",
            "[932] loss: 0.224\n",
            "[933] loss: 0.150\n",
            "[934] loss: 0.140\n",
            "[935] loss: 0.184\n",
            "[936] loss: 0.177\n",
            "[937] loss: 0.175\n",
            "[938] loss: 0.150\n",
            "[939] loss: 0.123\n",
            "[940] loss: 0.171\n",
            "[941] loss: 0.166\n",
            "[942] loss: 0.158\n",
            "[943] loss: 0.199\n",
            "[944] loss: 0.183\n",
            "[945] loss: 0.170\n",
            "[946] loss: 0.224\n",
            "[947] loss: 0.172\n",
            "[948] loss: 0.155\n",
            "[949] loss: 0.193\n",
            "[950] loss: 0.143\n",
            "[951] loss: 0.150\n",
            "[952] loss: 0.186\n",
            "[953] loss: 0.199\n",
            "[954] loss: 0.134\n",
            "[955] loss: 0.175\n",
            "[956] loss: 0.176\n",
            "[957] loss: 0.182\n",
            "[958] loss: 0.171\n",
            "[959] loss: 0.156\n",
            "[960] loss: 0.186\n",
            "[961] loss: 0.178\n",
            "[962] loss: 0.203\n",
            "[963] loss: 0.202\n",
            "[964] loss: 0.168\n",
            "[965] loss: 0.145\n",
            "[966] loss: 0.230\n",
            "[967] loss: 0.168\n",
            "[968] loss: 0.173\n",
            "[969] loss: 0.179\n",
            "[970] loss: 0.167\n",
            "[971] loss: 0.202\n",
            "[972] loss: 0.167\n",
            "[973] loss: 0.181\n",
            "[974] loss: 0.167\n",
            "[975] loss: 0.157\n",
            "[976] loss: 0.144\n",
            "[977] loss: 0.154\n",
            "[978] loss: 0.164\n",
            "[979] loss: 0.162\n",
            "[980] loss: 0.151\n",
            "[981] loss: 0.210\n",
            "[982] loss: 0.164\n",
            "[983] loss: 0.232\n",
            "[984] loss: 0.148\n",
            "[985] loss: 0.152\n",
            "[986] loss: 0.182\n",
            "[987] loss: 0.186\n",
            "[988] loss: 0.166\n",
            "[989] loss: 0.161\n",
            "[990] loss: 0.152\n",
            "[991] loss: 0.165\n",
            "[992] loss: 0.168\n",
            "[993] loss: 0.139\n",
            "[994] loss: 0.177\n",
            "[995] loss: 0.166\n",
            "[996] loss: 0.185\n",
            "[997] loss: 0.191\n",
            "[998] loss: 0.160\n",
            "[999] loss: 0.160\n",
            "[1000] loss: 0.167\n"
          ]
        }
      ],
      "source": [
        "niters = 1000\n",
        "hh = []\n",
        "for it in range(niters):\n",
        "    # Generate random mini-batch:\n",
        "    ix = np.random.permutation(60000)[:1000]\n",
        "    x = torch.tensor(train_images[ix], dtype=torch.float)\n",
        "    y = torch.tensor(train_labels[ix], dtype=torch.long)\n",
        "\n",
        "    # Reset gradients:\n",
        "    optimizer.zero_grad()\n",
        "\n",
        "    # Forward pass:\n",
        "    outputs = net(x)\n",
        "    loss = criterion(outputs, y)\n",
        "\n",
        "    # Backward pass:\n",
        "    loss.backward()\n",
        "\n",
        "    # Update:\n",
        "    optimizer.step()\n",
        "\n",
        "    # Print stats:\n",
        "    print('[%d] loss: %.3f' % (it + 1, loss.item()))\n",
        "    hh.append(loss.item())"
      ]
    },
    {
      "cell_type": "markdown",
      "metadata": {
        "id": "1xs1ZhWcoyaz"
      },
      "source": [
        "Plot:"
      ]
    },
    {
      "cell_type": "code",
      "execution_count": 30,
      "metadata": {
        "colab": {
          "base_uri": "https://localhost:8080/",
          "height": 430
        },
        "id": "m5sVcA63V3gI",
        "outputId": "9b636888-994c-4f60-f6e2-80a1fbfdd80c"
      },
      "outputs": [
        {
          "data": {
            "image/png": "[encoded data removed]",
            "text/plain": [
              "<Figure size 640x480 with 1 Axes>"
            ]
          },
          "metadata": {},
          "output_type": "display_data"
        }
      ],
      "source": [
        "plt.plot(hh)\n",
        "plt.grid(True)\n",
        "plt.show()"
      ]
    },
    {
      "cell_type": "markdown",
      "metadata": {
        "id": "HRA0N2J9p8jN"
      },
      "source": [
        "Let us classify the same image after training:"
      ]
    },
    {
      "cell_type": "code",
      "execution_count": 31,
      "metadata": {
        "colab": {
          "base_uri": "https://localhost:8080/",
          "height": 499
        },
        "id": "1ps2jawvLWPP",
        "outputId": "ec82facf-d207-42e2-eccc-5e54323e8db5"
      },
      "outputs": [
        {
          "name": "stdout",
          "output_type": "stream",
          "text": [
            "(28, 28)\n",
            "target = 0\n"
          ]
        },
        {
          "data": {
            "image/png": "[encoded data removed]",
            "text/plain": [
              "<Figure size 640x480 with 1 Axes>"
            ]
          },
          "metadata": {},
          "output_type": "display_data"
        },
        {
          "name": "stdout",
          "output_type": "stream",
          "text": [
            "tensor([[11.4808, -6.5638,  2.1783, -8.0627, -0.9351, -7.7032, -2.3383, -1.8411,\n",
            "         -7.3500,  3.2218]], grad_fn=<AddmmBackward0>)\n"
          ]
        }
      ],
      "source": [
        "print(train_images[1].shape)\n",
        "print(\"target =\", train_labels[1])\n",
        "plt.imshow(train_images[1], cmap='gray')\n",
        "plt.show()\n",
        "\n",
        "# Image to tensor:\n",
        "input = torch.tensor(train_images[1], dtype=torch.float)\n",
        "\n",
        "# Predict:\n",
        "out = net(input)\n",
        "print(out)"
      ]
    },
    {
      "cell_type": "markdown",
      "metadata": {
        "id": "duQUCaXOo_zD"
      },
      "source": [
        "Now the highest output is assigned to the correct target."
      ]
    },
    {
      "cell_type": "markdown",
      "metadata": {
        "id": "VZya0QZ6q1-k"
      },
      "source": [
        "Accuracy on training data:"
      ]
    },
    {
      "cell_type": "code",
      "execution_count": 32,
      "metadata": {
        "colab": {
          "base_uri": "https://localhost:8080/"
        },
        "id": "R1WcjW5_pCqx",
        "outputId": "c056363f-9173-448e-ba48-17ee2240c1cf"
      },
      "outputs": [
        {
          "data": {
            "text/plain": [
              "0.9510333333333333"
            ]
          },
          "execution_count": 32,
          "metadata": {},
          "output_type": "execute_result"
        }
      ],
      "source": [
        "input = torch.tensor(train_images, dtype=torch.float)\n",
        "out = net(input)\n",
        "_, predicted = torch.max(out, 1)\n",
        "(predicted.numpy() == train_labels).sum() / 60000"
      ]
    },
    {
      "cell_type": "markdown",
      "metadata": {
        "id": "g9Ick4n0LiFM"
      },
      "source": [
        "Accuracy on test data:"
      ]
    },
    {
      "cell_type": "code",
      "execution_count": 33,
      "metadata": {
        "colab": {
          "base_uri": "https://localhost:8080/"
        },
        "id": "sQ_ChRoBrAVp",
        "outputId": "94da9d22-60cf-4e66-f410-c2cfc0455dcf"
      },
      "outputs": [
        {
          "data": {
            "text/plain": [
              "0.9482"
            ]
          },
          "execution_count": 33,
          "metadata": {},
          "output_type": "execute_result"
        }
      ],
      "source": [
        "input = torch.tensor(test_images, dtype=torch.float)\n",
        "out = net(input)\n",
        "_, predicted = torch.max(out, 1)\n",
        "(predicted.numpy() == test_labels).sum() / 10000"
      ]
    },
    {
      "cell_type": "markdown",
      "metadata": {
        "id": "2s0RalLicamt"
      },
      "source": [
        "PyTorch offers some utilities to process batches of data:\n"
      ]
    },
    {
      "cell_type": "code",
      "execution_count": 34,
      "metadata": {
        "id": "oYm-GgOpMegb"
      },
      "outputs": [],
      "source": [
        "import torch\n",
        "import torchvision\n",
        "import torchvision.transforms as transforms\n",
        "from torch.utils.data import TensorDataset, DataLoader"
      ]
    },
    {
      "cell_type": "markdown",
      "metadata": {
        "id": "VfOh-OtOdY9M"
      },
      "source": [
        "Let us build ``DataLoader``s for training and test data:"
      ]
    },
    {
      "cell_type": "code",
      "execution_count": 35,
      "metadata": {
        "id": "Ruc-zjUsch3a"
      },
      "outputs": [],
      "source": [
        "tensor_x = torch.tensor(train_images, dtype=torch.float)\n",
        "tensor_y = torch.tensor(train_labels, dtype=torch.long)\n",
        "train_dataset = TensorDataset(tensor_x, tensor_y)\n",
        "train_dataloader = DataLoader(train_dataset, batch_size=1000, shuffle=True)\n",
        "\n",
        "tensor_x = torch.tensor(test_images, dtype=torch.float)\n",
        "tensor_y = torch.tensor(test_labels, dtype=torch.long)\n",
        "test_dataset = TensorDataset(tensor_x,tensor_y)\n",
        "test_dataloader = DataLoader(test_dataset, batch_size=1000, shuffle=True)"
      ]
    },
    {
      "cell_type": "markdown",
      "metadata": {
        "id": "9YmbmnGLptjM"
      },
      "source": [
        "New network:"
      ]
    },
    {
      "cell_type": "code",
      "execution_count": 36,
      "metadata": {
        "id": "LXiHXKcSd3pG"
      },
      "outputs": [],
      "source": [
        "net = Net()\n",
        "criterion = nn.CrossEntropyLoss()\n",
        "optimizer = optim.SGD(net.parameters(), lr=0.001, momentum=0.9)"
      ]
    },
    {
      "cell_type": "markdown",
      "metadata": {
        "id": "u2CMHzKMd35s"
      },
      "source": [
        "Reimplement the training loop using epochs and batches:"
      ]
    },
    {
      "cell_type": "code",
      "execution_count": 37,
      "metadata": {
        "colab": {
          "base_uri": "https://localhost:8080/"
        },
        "id": "jR0cEnSWd3kf",
        "outputId": "67f99fe1-6617-4d58-cd60-a2ef5008ffcb"
      },
      "outputs": [
        {
          "name": "stdout",
          "output_type": "stream",
          "text": [
            "[1] loss: 120.697\n",
            "[2] loss: 31.599\n",
            "[3] loss: 21.443\n",
            "[4] loss: 17.289\n",
            "[5] loss: 14.987\n",
            "[6] loss: 13.497\n",
            "[7] loss: 12.575\n",
            "[8] loss: 11.674\n",
            "[9] loss: 10.943\n",
            "[10] loss: 10.553\n"
          ]
        }
      ],
      "source": [
        "nepochs = 10\n",
        "hh = []\n",
        "for it in range(nepochs):\n",
        "  rloss = 0.0\n",
        "  for x, t in train_dataloader:\n",
        "    # Reset gradients to 0:\n",
        "    optimizer.zero_grad()\n",
        "\n",
        "    # Forward pass:\n",
        "    outputs = net(x)\n",
        "    loss = criterion(outputs, t)\n",
        "\n",
        "    # Backward pass:\n",
        "    loss.backward()\n",
        "\n",
        "    # Actualización de los pesos:\n",
        "    optimizer.step()\n",
        "\n",
        "    # Acumulo loss:\n",
        "    rloss += loss.item()\n",
        "\n",
        "  # Imprimir loss de la época:\n",
        "  print('[%d] loss: %.3f' % (it + 1, rloss))\n",
        "  hh.append(rloss)"
      ]
    },
    {
      "cell_type": "markdown",
      "metadata": {
        "id": "F96yqgS3gGZF"
      },
      "source": [
        "Accuracy on training and test data:"
      ]
    },
    {
      "cell_type": "code",
      "execution_count": 38,
      "metadata": {
        "colab": {
          "base_uri": "https://localhost:8080/"
        },
        "id": "8Z2KFUhBqD1C",
        "outputId": "fd35fa74-120d-4986-aaf4-a15d567e9176"
      },
      "outputs": [
        {
          "data": {
            "text/plain": [
              "0.9491666666666667"
            ]
          },
          "execution_count": 38,
          "metadata": {},
          "output_type": "execute_result"
        }
      ],
      "source": [
        "input = torch.tensor(train_images, dtype=torch.float)\n",
        "out = net(input)\n",
        "_, predicted = torch.max(out, 1)\n",
        "(predicted.numpy() == train_labels).sum() / 60000"
      ]
    },
    {
      "cell_type": "code",
      "execution_count": 39,
      "metadata": {
        "colab": {
          "base_uri": "https://localhost:8080/"
        },
        "id": "bN3Bc0qtd3hB",
        "outputId": "39f10ffd-1567-4032-8a2c-71ab1e614b23"
      },
      "outputs": [
        {
          "data": {
            "text/plain": [
              "0.9412"
            ]
          },
          "execution_count": 39,
          "metadata": {},
          "output_type": "execute_result"
        }
      ],
      "source": [
        "input = torch.tensor(test_images, dtype=torch.float)\n",
        "out = net(input)\n",
        "_, predicted = torch.max(out, 1)\n",
        "(predicted.numpy() == test_labels).sum() / 10000"
      ]
    },
    {
      "cell_type": "markdown",
      "metadata": {
        "id": "JNu0TkFdqM64"
      },
      "source": [
        "### <font color=\"#CA3532\">Exercise 3: Convolutional Neural Network with pytorch</font>\n",
        "\n",
        "Use PyTorch to implement a convolutional neural network and apply it to classify the images of the [CIFAR-10](https://www.cs.toronto.edu/~kriz/cifar.html) dataset. The network should have at least the following characteristics:\n",
        "\n",
        "- Convolutional layers.\n",
        "- Pooling layers.\n",
        "- Some regularization mechanism, such as dropout or L2 regularization, to avoid overfitting.\n",
        "\n",
        "In addition, your work should meet the following requirements:\n",
        "\n",
        "- The network must obtain at least **78%** accuracy on the test set.\n",
        "- You must use data augmentation.\n",
        "- You must do hyperparameter tuning to find the best model.\n",
        "\n",
        "Regarding the last point, at least the following hyperparameters must be considered:\n",
        "\n",
        "- The learning rate.\n",
        "- The optimizer (SGD, Adam, for example).\n",
        "- The number of convolutional layers and filters, and the filter size.\n",
        "- The regularization parameters (dropout rate, for example).\n",
        "\n",
        "*Notes:*\n",
        "\n",
        "- The example in the PyTorch [Training a classifier](https://pytorch.org/tutorials/beginner/blitz/cifar10_tutorial.html) tutorial may be a good starting point.\n",
        "\n",
        "- You can check the available PyTorch layers in the [torch.nn](https://pytorch.org/docs/stable/nn.html) module documentation.\n",
        "\n",
        "- In order to perform n-fold cross validation, you may consider using the class [StratifiedKFold](https://scikit-learn.org/stable/modules/generated/sklearn.model_selection.StratifiedKFold.html) from the scikit-learn [model selection package](https://scikit-learn.org/stable/modules/classes.html#module-sklearn.model_selection).\n",
        "\n",
        "- Finally, take into account that it will be very slow to do the hyperparameter search, so do not leave the work for the last day. In order to speed up the search process, you can reduce the number of epochs to a minimum value (even 1 epoch could be enough). But remember to retrain the final model with the whole training dataset for a sufficient number of epochs.\n",
        "\n",
        "*What you must turn in:*\n",
        "\n",
        "- All the code (functions, classes) should be included in the file ``dlfbt_lab3.py``.\n",
        "- Use this notebook to import the code, run the hyperparameter search, do all the necessary tests and show the final results.\n",
        "- Include explanations and a brief conclusion.\n",
        "\n",
        "\n",
        "\n"
      ]
    },
    {
      "cell_type": "code",
      "execution_count": 7,
      "metadata": {},
      "outputs": [
        {
          "name": "stdout",
          "output_type": "stream",
          "text": [
            "Files already downloaded and verified\n",
            "Files already downloaded and verified\n"
          ]
        }
      ],
      "source": [
        "import torch\n",
        "import torchvision\n",
        "import torchvision.transforms as transforms\n",
        "from dlfbt_lab3 import prepare_dataset\n",
        "\n",
        "batch_size = 64\n",
        "\n",
        "# Horizontal Flip and Random Rotations as transforms for our data augmentantion\n",
        "data_aug_transform = transforms.Compose([\n",
        "                                         transforms.RandomHorizontalFlip(p=0.5),\n",
        "                                         transforms.RandomRotation(degrees=(-10,10)),\n",
        "])\n",
        "\n",
        "# load CIFAR-10 dataset\n",
        "train_loader, val_loader, test_loader = prepare_dataset(batch_size, \n",
        "                                                        data_aug_transform, \n",
        "                                                        validation_set=True)\n",
        "\n",
        "classes = ('plane', 'car', 'bird', 'cat',\n",
        "           'deer', 'dog', 'frog', 'horse', 'ship', 'truck')\n",
        "\n"
      ]
    },
    {
      "cell_type": "code",
      "execution_count": 8,
      "metadata": {},
      "outputs": [
        {
          "data": {
            "text/plain": [
              "(torch.Size([64, 3, 32, 32]), torch.Size([64]))"
            ]
          },
          "execution_count": 8,
          "metadata": {},
          "output_type": "execute_result"
        }
      ],
      "source": [
        "x,y = next(iter(train_loader))\n",
        "x.shape,y.shape"
      ]
    },
    {
      "cell_type": "code",
      "execution_count": 9,
      "metadata": {},
      "outputs": [
        {
          "name": "stdout",
          "output_type": "stream",
          "text": [
            "Using cuda device\n"
          ]
        }
      ],
      "source": [
        "# choosing between devices depending on HW compatibility\n",
        "device = (\n",
        "    \"cuda\"\n",
        "    if torch.cuda.is_available()\n",
        "    else \"mps\"\n",
        "    if torch.backends.mps.is_available()\n",
        "    else \"cpu\"\n",
        ")\n",
        "print(f\"Using {device} device\")"
      ]
    },
    {
      "cell_type": "code",
      "execution_count": 10,
      "metadata": {},
      "outputs": [],
      "source": [
        "from dlfbt_lab3 import CNN_model,train,plot_metrics,test_step\n",
        "import torch.optim as optim\n",
        "from torch import nn\n",
        "\n",
        "epochs = 80\n",
        "\n",
        "# declare model\n",
        "cnn_model = CNN_model().to(device)\n",
        "\n",
        "# initialize weights\n",
        "cnn_model.apply(CNN_model.init_weights)\n",
        "\n",
        "# defining loss function and optimizer\n",
        "loss_fn = nn.CrossEntropyLoss()\n",
        "optimizer = optim.Adamax(cnn_model.parameters(), lr=0.002, weight_decay=5e-5)"
      ]
    },
    {
      "cell_type": "code",
      "execution_count": 11,
      "metadata": {},
      "outputs": [
        {
          "name": "stdout",
          "output_type": "stream",
          "text": [
            "Epoch: 2 | \n",
            "\t Train Loss: 2.05 | Train Accuracy: 0.402                                         \n",
            "\t Val Loss: 1.99 | Val Accuracy: 0.466\n",
            "Epoch: 4 | \n",
            "\t Train Loss: 1.9 | Train Accuracy: 0.555                                         \n",
            "\t Val Loss: 1.89 | Val Accuracy: 0.565\n",
            "Epoch: 6 | \n",
            "\t Train Loss: 1.85 | Train Accuracy: 0.61                                         \n",
            "\t Val Loss: 1.87 | Val Accuracy: 0.593\n",
            "Epoch: 8 | \n",
            "\t Train Loss: 1.81 | Train Accuracy: 0.648                                         \n",
            "\t Val Loss: 1.81 | Val Accuracy: 0.645\n",
            "Epoch: 10 | \n",
            "\t Train Loss: 1.79 | Train Accuracy: 0.671                                         \n",
            "\t Val Loss: 1.79 | Val Accuracy: 0.669\n",
            "Epoch: 12 | \n",
            "\t Train Loss: 1.77 | Train Accuracy: 0.693                                         \n",
            "\t Val Loss: 1.78 | Val Accuracy: 0.681\n",
            "Epoch: 14 | \n",
            "\t Train Loss: 1.75 | Train Accuracy: 0.709                                         \n",
            "\t Val Loss: 1.76 | Val Accuracy: 0.695\n",
            "Epoch: 16 | \n",
            "\t Train Loss: 1.74 | Train Accuracy: 0.719                                         \n",
            "\t Val Loss: 1.76 | Val Accuracy: 0.697\n",
            "Epoch: 18 | \n",
            "\t Train Loss: 1.73 | Train Accuracy: 0.734                                         \n",
            "\t Val Loss: 1.75 | Val Accuracy: 0.71\n",
            "Epoch: 20 | \n",
            "\t Train Loss: 1.72 | Train Accuracy: 0.743                                         \n",
            "\t Val Loss: 1.74 | Val Accuracy: 0.719\n",
            "Epoch: 22 | \n",
            "\t Train Loss: 1.7 | Train Accuracy: 0.757                                         \n",
            "\t Val Loss: 1.73 | Val Accuracy: 0.725\n",
            "Epoch: 24 | \n",
            "\t Train Loss: 1.7 | Train Accuracy: 0.762                                         \n",
            "\t Val Loss: 1.73 | Val Accuracy: 0.731\n",
            "Epoch: 26 | \n",
            "\t Train Loss: 1.69 | Train Accuracy: 0.767                                         \n",
            "\t Val Loss: 1.73 | Val Accuracy: 0.726\n",
            "Epoch: 28 | \n",
            "\t Train Loss: 1.68 | Train Accuracy: 0.78                                         \n",
            "\t Val Loss: 1.73 | Val Accuracy: 0.729\n",
            "Epoch: 30 | \n",
            "\t Train Loss: 1.68 | Train Accuracy: 0.785                                         \n",
            "\t Val Loss: 1.71 | Val Accuracy: 0.749\n",
            "Epoch: 32 | \n",
            "\t Train Loss: 1.67 | Train Accuracy: 0.788                                         \n",
            "\t Val Loss: 1.72 | Val Accuracy: 0.738\n",
            "Epoch: 34 | \n",
            "\t Train Loss: 1.66 | Train Accuracy: 0.796                                         \n",
            "\t Val Loss: 1.71 | Val Accuracy: 0.747\n",
            "Epoch: 36 | \n",
            "\t Train Loss: 1.66 | Train Accuracy: 0.801                                         \n",
            "\t Val Loss: 1.71 | Val Accuracy: 0.747\n",
            "Epoch: 38 | \n",
            "\t Train Loss: 1.65 | Train Accuracy: 0.807                                         \n",
            "\t Val Loss: 1.7 | Val Accuracy: 0.756\n",
            "Epoch: 40 | \n",
            "\t Train Loss: 1.65 | Train Accuracy: 0.81                                         \n",
            "\t Val Loss: 1.7 | Val Accuracy: 0.755\n",
            "Epoch: 42 | \n",
            "\t Train Loss: 1.64 | Train Accuracy: 0.816                                         \n",
            "\t Val Loss: 1.71 | Val Accuracy: 0.75\n",
            "Epoch: 44 | \n",
            "\t Train Loss: 1.64 | Train Accuracy: 0.824                                         \n",
            "\t Val Loss: 1.71 | Val Accuracy: 0.753\n",
            "Epoch: 46 | \n",
            "\t Train Loss: 1.64 | Train Accuracy: 0.822                                         \n",
            "\t Val Loss: 1.7 | Val Accuracy: 0.76\n",
            "Epoch: 48 | \n",
            "\t Train Loss: 1.64 | Train Accuracy: 0.825                                         \n",
            "\t Val Loss: 1.71 | Val Accuracy: 0.752\n",
            "Epoch: 50 | \n",
            "\t Train Loss: 1.63 | Train Accuracy: 0.832                                         \n",
            "\t Val Loss: 1.7 | Val Accuracy: 0.759\n",
            "Epoch: 52 | \n",
            "\t Train Loss: 1.63 | Train Accuracy: 0.836                                         \n",
            "\t Val Loss: 1.7 | Val Accuracy: 0.755\n",
            "Epoch: 54 | \n",
            "\t Train Loss: 1.63 | Train Accuracy: 0.836                                         \n",
            "\t Val Loss: 1.7 | Val Accuracy: 0.762\n",
            "Epoch: 56 | \n",
            "\t Train Loss: 1.62 | Train Accuracy: 0.843                                         \n",
            "\t Val Loss: 1.7 | Val Accuracy: 0.761\n",
            "Epoch: 58 | \n",
            "\t Train Loss: 1.61 | Train Accuracy: 0.847                                         \n",
            "\t Val Loss: 1.7 | Val Accuracy: 0.76\n",
            "Epoch: 60 | \n",
            "\t Train Loss: 1.61 | Train Accuracy: 0.848                                         \n",
            "\t Val Loss: 1.69 | Val Accuracy: 0.766\n",
            "Epoch: 62 | \n",
            "\t Train Loss: 1.61 | Train Accuracy: 0.852                                         \n",
            "\t Val Loss: 1.69 | Val Accuracy: 0.766\n",
            "Epoch: 64 | \n",
            "\t Train Loss: 1.61 | Train Accuracy: 0.854                                         \n",
            "\t Val Loss: 1.7 | Val Accuracy: 0.763\n",
            "Epoch: 66 | \n",
            "\t Train Loss: 1.61 | Train Accuracy: 0.855                                         \n",
            "\t Val Loss: 1.69 | Val Accuracy: 0.769\n",
            "Epoch: 68 | \n",
            "\t Train Loss: 1.6 | Train Accuracy: 0.858                                         \n",
            "\t Val Loss: 1.69 | Val Accuracy: 0.77\n",
            "Epoch: 70 | \n",
            "\t Train Loss: 1.6 | Train Accuracy: 0.861                                         \n",
            "\t Val Loss: 1.69 | Val Accuracy: 0.774\n",
            "Epoch: 72 | \n",
            "\t Train Loss: 1.6 | Train Accuracy: 0.864                                         \n",
            "\t Val Loss: 1.68 | Val Accuracy: 0.775\n",
            "Epoch: 74 | \n",
            "\t Train Loss: 1.6 | Train Accuracy: 0.865                                         \n",
            "\t Val Loss: 1.69 | Val Accuracy: 0.77\n",
            "Epoch: 76 | \n",
            "\t Train Loss: 1.6 | Train Accuracy: 0.866                                         \n",
            "\t Val Loss: 1.69 | Val Accuracy: 0.773\n",
            "Epoch: 78 | \n",
            "\t Train Loss: 1.59 | Train Accuracy: 0.87                                         \n",
            "\t Val Loss: 1.68 | Val Accuracy: 0.777\n",
            "Epoch: 80 | \n",
            "\t Train Loss: 1.59 | Train Accuracy: 0.871                                         \n",
            "\t Val Loss: 1.68 | Val Accuracy: 0.778\n"
          ]
        },
        {
          "data": {
            "image/png": "[encoded data removed]",
            "text/plain": [
              "<Figure size 1000x600 with 1 Axes>"
            ]
          },
          "metadata": {},
          "output_type": "display_data"
        },
        {
          "data": {
            "image/png": "[encoded data removed]",
            "text/plain": [
              "<Figure size 1000x600 with 1 Axes>"
            ]
          },
          "metadata": {},
          "output_type": "display_data"
        }
      ],
      "source": [
        "# training the model\n",
        "history = train(train_loader,val_loader,cnn_model,loss_fn,optimizer,device,epochs,2)\n",
        "\n",
        "plot_metrics(history,epochs)"
      ]
    },
    {
      "cell_type": "code",
      "execution_count": 12,
      "metadata": {},
      "outputs": [
        {
          "name": "stdout",
          "output_type": "stream",
          "text": [
            "Test Acc: 0.767 | Test Loss: 1.69\n"
          ]
        }
      ],
      "source": [
        "test_loss, test_acc =  test_step(cnn_model,test_loader,loss_fn,device)\n",
        "\n",
        "print(f\"Test Acc: {test_acc:.3} | Test Loss: {test_loss:.3}\")"
      ]
    },
    {
      "cell_type": "code",
      "execution_count": null,
      "metadata": {},
      "outputs": [],
      "source": []
    }
  ],
  "metadata": {
    "accelerator": "GPU",
    "colab": {
      "collapsed_sections": [
        "4DRvswhK6nnj"
      ],
      "provenance": []
    },
    "kernelspec": {
      "display_name": "Python 3",
      "name": "python3"
    },
    "language_info": {
      "codemirror_mode": {
        "name": "ipython",
        "version": 3
      },
      "file_extension": ".py",
      "mimetype": "text/x-python",
      "name": "python",
      "nbconvert_exporter": "python",
      "pygments_lexer": "ipython3",
      "version": "3.11.4"
    }
  },
  "nbformat": 4,
  "nbformat_minor": 0
}
